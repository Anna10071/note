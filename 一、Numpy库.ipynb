{
 "cells": [
  {
   "cell_type": "code",
   "execution_count": 2,
   "id": "7ba05165",
   "metadata": {},
   "outputs": [],
   "source": [
    "import numpy as np"
   ]
  },
  {
   "cell_type": "code",
   "execution_count": 13,
   "id": "b019000c",
   "metadata": {},
   "outputs": [
    {
     "data": {
      "text/plain": [
       "array(['4', '5', '6'], dtype='<U11')"
      ]
     },
     "execution_count": 13,
     "metadata": {},
     "output_type": "execute_result"
    }
   ],
   "source": [
    "#numpy中的数据必须一致\n",
    "b=np.array([4,5,'6'])\n",
    "b"
   ]
  },
  {
   "cell_type": "markdown",
   "id": "d3bb2364",
   "metadata": {},
   "source": [
    "# 如何创建列表"
   ]
  },
  {
   "cell_type": "code",
   "execution_count": 2,
   "id": "83f5ea01",
   "metadata": {},
   "outputs": [
    {
     "name": "stdout",
     "output_type": "stream",
     "text": [
      "[1 2 3 4]\n"
     ]
    }
   ],
   "source": [
    "#方法一：使用array来创建数组\n",
    "a=np.array([1,2,3,4])\n",
    "print(a)"
   ]
  },
  {
   "cell_type": "code",
   "execution_count": 3,
   "id": "09e98b9d",
   "metadata": {},
   "outputs": [
    {
     "data": {
      "text/plain": [
       "array([0. , 0.5, 1. , 1.5, 2. , 2.5, 3. , 3.5, 4. , 4.5, 5. , 5.5, 6. ,\n",
       "       6.5, 7. , 7.5, 8. , 8.5, 9. , 9.5])"
      ]
     },
     "execution_count": 3,
     "metadata": {},
     "output_type": "execute_result"
    }
   ],
   "source": [
    "#方法二：使用np.arange来创建数组（第三个数字2是步伐）\n",
    "b=np.arange(0,10,0.5)\n",
    "b"
   ]
  },
  {
   "cell_type": "code",
   "execution_count": 20,
   "id": "c2ae7e1d",
   "metadata": {},
   "outputs": [
    {
     "data": {
      "text/plain": [
       "array([[0.45199063, 0.46073117],\n",
       "       [0.64314463, 0.30636701]])"
      ]
     },
     "execution_count": 20,
     "metadata": {},
     "output_type": "execute_result"
    }
   ],
   "source": [
    "#方法三：使用np.random来创建N行N列的数组，其中数值是0~1的随机数\n",
    "c=np.random.random((2,2))\n",
    "c"
   ]
  },
  {
   "cell_type": "code",
   "execution_count": 25,
   "id": "2b7cbe9f",
   "metadata": {},
   "outputs": [
    {
     "data": {
      "text/plain": [
       "array([[0, 8, 8, 0],\n",
       "       [7, 8, 0, 3],\n",
       "       [3, 4, 3, 2],\n",
       "       [4, 4, 4, 5]])"
      ]
     },
     "execution_count": 25,
     "metadata": {},
     "output_type": "execute_result"
    }
   ],
   "source": [
    "#方法四：使用np.random.randint来创建N行N列的数组，其中值的范围可以通过前面两个参数来指定\n",
    "c=np.random.randint(0,9,size=(4,4))\n",
    "c"
   ]
  },
  {
   "cell_type": "code",
   "execution_count": 27,
   "id": "0ec0a312",
   "metadata": {},
   "outputs": [
    {
     "data": {
      "text/plain": [
       "array([[0., 0., 0.],\n",
       "       [0., 0., 0.],\n",
       "       [0., 0., 0.]])"
      ]
     },
     "execution_count": 27,
     "metadata": {},
     "output_type": "execute_result"
    }
   ],
   "source": [
    "#方法五：使用特殊函数生成的数组\n",
    "d=np.zeros((3,3))#3行3列都为0的数组\n",
    "d"
   ]
  },
  {
   "cell_type": "code",
   "execution_count": 28,
   "id": "69521d41",
   "metadata": {},
   "outputs": [
    {
     "data": {
      "text/plain": [
       "array([[1., 1., 1., 1.],\n",
       "       [1., 1., 1., 1.],\n",
       "       [1., 1., 1., 1.],\n",
       "       [1., 1., 1., 1.]])"
      ]
     },
     "execution_count": 28,
     "metadata": {},
     "output_type": "execute_result"
    }
   ],
   "source": [
    "d=np.ones((4,4))#4行4列的都是1的数组\n",
    "d"
   ]
  },
  {
   "cell_type": "code",
   "execution_count": 33,
   "id": "4e9e41e2",
   "metadata": {},
   "outputs": [
    {
     "data": {
      "text/plain": [
       "array([[9, 9, 9],\n",
       "       [9, 9, 9]])"
      ]
     },
     "execution_count": 33,
     "metadata": {},
     "output_type": "execute_result"
    }
   ],
   "source": [
    "e=np.full((2,3),9)#都为指定数字9的2行3列的数组\n",
    "e"
   ]
  },
  {
   "cell_type": "code",
   "execution_count": 36,
   "id": "178944ca",
   "metadata": {},
   "outputs": [
    {
     "data": {
      "text/plain": [
       "array([[1., 0., 0., 0., 0.],\n",
       "       [0., 1., 0., 0., 0.],\n",
       "       [0., 0., 1., 0., 0.],\n",
       "       [0., 0., 0., 1., 0.],\n",
       "       [0., 0., 0., 0., 1.]])"
      ]
     },
     "execution_count": 36,
     "metadata": {},
     "output_type": "execute_result"
    }
   ],
   "source": [
    "#对称的数列\n",
    "e=np.eye(5)\n",
    "e"
   ]
  },
  {
   "cell_type": "markdown",
   "id": "97b05ae9",
   "metadata": {},
   "source": [
    "# ndim可以查看数组的维度"
   ]
  },
  {
   "cell_type": "code",
   "execution_count": 53,
   "id": "77c23cff",
   "metadata": {},
   "outputs": [
    {
     "name": "stdout",
     "output_type": "stream",
     "text": [
      "1\n",
      "2\n",
      "3\n"
     ]
    }
   ],
   "source": [
    "\n",
    "a1=np.array([1,2,3])\n",
    "print(a1.ndim)\n",
    "a2=np.array([[1,2,3],[4,5,6]])\n",
    "print(a2.ndim)\n",
    "a3=np.array([[[1,2,3],[4,5,6]],\n",
    "             [[7,8,9],[10,11,12]]])\n",
    "print(a3.ndim)"
   ]
  },
  {
   "cell_type": "markdown",
   "id": "a1f5e729",
   "metadata": {},
   "source": [
    "# shape可以查看这个数组是几行几列\n",
    "shape是一个元组，里面有几个元素代表是几维数组"
   ]
  },
  {
   "cell_type": "code",
   "execution_count": 57,
   "id": "6637f8d4",
   "metadata": {},
   "outputs": [
    {
     "name": "stdout",
     "output_type": "stream",
     "text": [
      "(3,)\n",
      "(2, 3)\n",
      "(2, 2, 3)\n"
     ]
    }
   ],
   "source": [
    " *（2，2，3）的意思是：有2部分，每部分有2行，每一行3个元素\n",
    "print(a1.shape)\n",
    "print(a2.shape)\n",
    "print(a3.shape)"
   ]
  },
  {
   "cell_type": "markdown",
   "id": "e180e650",
   "metadata": {},
   "source": [
    "# 通过reshape可以修改数组的形状，比如原来是（3，4），那么修改后可以变成（2，6），但不能变成（1，4）"
   ]
  },
  {
   "cell_type": "code",
   "execution_count": 60,
   "id": "7b5296fe",
   "metadata": {},
   "outputs": [
    {
     "name": "stdout",
     "output_type": "stream",
     "text": [
      "[[ 1  2  3  4  5  6]\n",
      " [ 7  8  9 10 11 12]]\n",
      "(2, 6)\n"
     ]
    }
   ],
   "source": [
    "#注意：reshape不会改变原来数组的形状\n",
    "a4=a3.reshape((2,6))\n",
    "print(a4)\n",
    "print(a4.shape)"
   ]
  },
  {
   "cell_type": "markdown",
   "id": "41c0af1e",
   "metadata": {},
   "source": [
    "# 扁平化数组，用flatten,不管这个数组有多那么的复杂都转化为1维的"
   ]
  },
  {
   "cell_type": "code",
   "execution_count": 62,
   "id": "5105ccfc",
   "metadata": {},
   "outputs": [
    {
     "name": "stdout",
     "output_type": "stream",
     "text": [
      "[ 1  2  3  4  5  6  7  8  9 10 11 12]\n",
      "1\n"
     ]
    }
   ],
   "source": [
    "a5=a3.reshape((1,12))\n",
    "a5=a3.reshape((12,))\n",
    "a5=a3.flaten()\n",
    "print(a5)\n",
    "print(a5.ndim)"
   ]
  },
  {
   "cell_type": "markdown",
   "id": "5560d586",
   "metadata": {},
   "source": [
    "# # 通过size可以看到数组总共有多少个元素"
   ]
  },
  {
   "cell_type": "markdown",
   "id": "32893504",
   "metadata": {},
   "source": [
    "# 通过itemsize可以看数组中每个元素所占内存的大小"
   ]
  },
  {
   "cell_type": "code",
   "execution_count": 64,
   "id": "4e99ed7a",
   "metadata": {},
   "outputs": [
    {
     "name": "stdout",
     "output_type": "stream",
     "text": [
      "12\n",
      "4\n"
     ]
    }
   ],
   "source": [
    "count=a3.size\n",
    "itemsize=a3.itemsize\n",
    "print(count)\n",
    "print(a3.itemsize)"
   ]
  },
  {
   "cell_type": "code",
   "execution_count": 71,
   "id": "ef234223",
   "metadata": {},
   "outputs": [
    {
     "name": "stdout",
     "output_type": "stream",
     "text": [
      "4\n",
      "[4 5]\n",
      "[0 2 4 6 8]\n",
      "9\n"
     ]
    }
   ],
   "source": [
    "# 这里是一维的数组操作\n",
    "#1、进行索引操作（例如：获取数字4）\n",
    "#2、进行切片操作（例如：获取数字4~5）\n",
    "#3、使用步长（例如：获得所有的偶数）\n",
    "#4、使用负数来做索引（例如：获取最后一个值）\n",
    "b1=np.arange(10)\n",
    "print(b1[4])\n",
    "print(b1[4:6])\n",
    "print(b1[::2])\n",
    "print(b1[-1])"
   ]
  },
  {
   "cell_type": "code",
   "execution_count": 79,
   "id": "de997188",
   "metadata": {},
   "outputs": [
    {
     "name": "stdout",
     "output_type": "stream",
     "text": [
      "[[1 6 5 7 1 6]\n",
      " [9 6 0 9 2 5]\n",
      " [8 9 1 7 7 8]\n",
      " [3 2 0 2 6 2]]\n",
      "[1 6 5 7 1 6]\n",
      "[[9 6 0 9 2 5]\n",
      " [8 9 1 7 7 8]]\n",
      "[[1 6 5 7 1 6]\n",
      " [3 2 0 2 6 2]]\n",
      "6\n",
      "[7 2]\n",
      "[[2]\n",
      " [7]]\n"
     ]
    }
   ],
   "source": [
    "#这里是多维数组的操作\n",
    "#1、如何获取一组多维的数组（例如：获取0~10的随机数，4行6列）\n",
    "#2、如何获取第0行的数组呢？\n",
    "#3、如何获取第一行到第二行的数组呢？（连续的行）\n",
    "#4、如何获取不连续的行呢？(在中括号里再加入一个中括号)\n",
    "#5、如何获取第几行第几列的数值？（逗号前面的是行，逗号后面的是列；只有一个数就是行）\n",
    "#6、如何获取不同行不同列的数值？不连续的（【2，3】是指第2行和第三行；【4，5】是指第4列和第5列，整个的意思就是第2行第4列，和第3行第5列的数）\n",
    "#7、连续的怎么获取呢？\n",
    "b2=np.random.randint(0,10,size=(4,6))\n",
    "print(b2)\n",
    "print(b2[0])\n",
    "print(b2[1:3])\n",
    "print(b2[[0,3]])\n",
    "print(b2[1,1])\n",
    "print(b2[[2,3],[4,5]])\n",
    "print(b2[1:3,4:5])"
   ]
  },
  {
   "cell_type": "markdown",
   "id": "4c71b2f9",
   "metadata": {},
   "source": [
    "# 布尔索引"
   ]
  },
  {
   "cell_type": "code",
   "execution_count": 80,
   "id": "85c7f186",
   "metadata": {},
   "outputs": [
    {
     "data": {
      "text/plain": [
       "array([[ 0,  1,  2,  3,  4,  5],\n",
       "       [ 6,  7,  8,  9, 10, 11],\n",
       "       [12, 13, 14, 15, 16, 17],\n",
       "       [18, 19, 20, 21, 22, 23]])"
      ]
     },
     "execution_count": 80,
     "metadata": {},
     "output_type": "execute_result"
    }
   ],
   "source": [
    "c1=np.arange(24).reshape((4,6))\n",
    "c1\n"
   ]
  },
  {
   "cell_type": "code",
   "execution_count": 83,
   "id": "d90da003",
   "metadata": {},
   "outputs": [
    {
     "data": {
      "text/plain": [
       "array([0, 1, 2, 3, 4, 5, 6, 7, 8, 9])"
      ]
     },
     "execution_count": 83,
     "metadata": {},
     "output_type": "execute_result"
    }
   ],
   "source": [
    "c1[c1<10]"
   ]
  },
  {
   "cell_type": "code",
   "execution_count": 85,
   "id": "6d4bcfdf",
   "metadata": {},
   "outputs": [
    {
     "data": {
      "text/plain": [
       "array([ 0,  1,  2,  3,  4, 11, 12, 13, 14, 15, 16, 17, 18, 19, 20, 21, 22,\n",
       "       23])"
      ]
     },
     "execution_count": 85,
     "metadata": {},
     "output_type": "execute_result"
    }
   ],
   "source": [
    "#多个条件，“|”是或者的意思；“&”是并且的意思\n",
    "c1[(c1<5)|(c1>10)]"
   ]
  },
  {
   "cell_type": "markdown",
   "id": "8cec8fbf",
   "metadata": {},
   "source": [
    "# 如何将替换数值"
   ]
  },
  {
   "cell_type": "code",
   "execution_count": 87,
   "id": "fe99f3bc",
   "metadata": {},
   "outputs": [
    {
     "data": {
      "text/plain": [
       "array([[7, 1, 5, 7, 6],\n",
       "       [0, 8, 8, 7, 2],\n",
       "       [2, 8, 7, 2, 1]])"
      ]
     },
     "execution_count": 87,
     "metadata": {},
     "output_type": "execute_result"
    }
   ],
   "source": [
    "c2=np.random.randint(0,10,size=(3,5))\n",
    "c2"
   ]
  },
  {
   "cell_type": "code",
   "execution_count": 88,
   "id": "5ab56f05",
   "metadata": {},
   "outputs": [
    {
     "data": {
      "text/plain": [
       "array([[7, 1, 5, 7, 6],\n",
       "       [0, 0, 0, 0, 0],\n",
       "       [2, 8, 7, 2, 1]])"
      ]
     },
     "execution_count": 88,
     "metadata": {},
     "output_type": "execute_result"
    }
   ],
   "source": [
    "#例如：把第一行全部换成数值0\n",
    "c2[1]=0\n",
    "c2"
   ]
  },
  {
   "cell_type": "code",
   "execution_count": 91,
   "id": "1086ef51",
   "metadata": {},
   "outputs": [
    {
     "data": {
      "text/plain": [
       "array([[7, 1, 5, 7, 6],\n",
       "       [1, 2, 3, 4, 5],\n",
       "       [2, 8, 7, 2, 1]])"
      ]
     },
     "execution_count": 91,
     "metadata": {},
     "output_type": "execute_result"
    }
   ],
   "source": [
    "#例如：把第一行全部换成1，2，3，4，5\n",
    "c2[1]=np.array([1,2,3,4,5])\n",
    "c2"
   ]
  },
  {
   "cell_type": "code",
   "execution_count": 92,
   "id": "719d9153",
   "metadata": {},
   "outputs": [
    {
     "data": {
      "text/plain": [
       "array([[7, 1, 5, 7, 6],\n",
       "       [1, 1, 3, 4, 5],\n",
       "       [1, 8, 7, 1, 1]])"
      ]
     },
     "execution_count": 92,
     "metadata": {},
     "output_type": "execute_result"
    }
   ],
   "source": [
    "#例如：将所有小于3的数改成1\n",
    "c2[c2<3]=1\n",
    "c2"
   ]
  },
  {
   "cell_type": "code",
   "execution_count": 93,
   "id": "96708225",
   "metadata": {},
   "outputs": [
    {
     "data": {
      "text/plain": [
       "array([[0, 1, 0, 0, 0],\n",
       "       [1, 1, 1, 1, 0],\n",
       "       [1, 0, 0, 1, 1]])"
      ]
     },
     "execution_count": 93,
     "metadata": {},
     "output_type": "execute_result"
    }
   ],
   "source": [
    "#例如：将所<5的数改成1，其他的换成0\n",
    "result=np.where(c2<5,1,0)\n",
    "result"
   ]
  },
  {
   "cell_type": "markdown",
   "id": "1ce2d85a",
   "metadata": {},
   "source": [
    "# 数组的广播机制\n",
    "总结：如果两个数组的从末尾开始算起的维度长度相等或者有一方为1，我们认为是可以广播兼容的。"
   ]
  },
  {
   "cell_type": "code",
   "execution_count": 94,
   "id": "8cb29b1c",
   "metadata": {},
   "outputs": [
    {
     "data": {
      "text/plain": [
       "array([[2, 2, 4, 3, 4],\n",
       "       [0, 0, 3, 3, 0],\n",
       "       [0, 3, 2, 2, 1]])"
      ]
     },
     "execution_count": 94,
     "metadata": {},
     "output_type": "execute_result"
    }
   ],
   "source": [
    "#数组与数之间的运算（例如：\n",
    "c3=np.random.randint(0,5,size=(3,5))\n",
    "c3"
   ]
  },
  {
   "cell_type": "code",
   "execution_count": 95,
   "id": "23c83969",
   "metadata": {},
   "outputs": [
    {
     "data": {
      "text/plain": [
       "array([[4, 4, 8, 6, 8],\n",
       "       [0, 0, 6, 6, 0],\n",
       "       [0, 6, 4, 4, 2]])"
      ]
     },
     "execution_count": 95,
     "metadata": {},
     "output_type": "execute_result"
    }
   ],
   "source": [
    "c3*2\n",
    "#这里将每一个数都乘以2"
   ]
  },
  {
   "cell_type": "markdown",
   "id": "205ae666",
   "metadata": {},
   "source": [
    "# CSV文件的操作"
   ]
  },
  {
   "cell_type": "code",
   "execution_count": 97,
   "id": "15a8ee3a",
   "metadata": {},
   "outputs": [
    {
     "data": {
      "text/plain": [
       "array([[67,  6],\n",
       "       [86, 54],\n",
       "       [75, 56],\n",
       "       [91, 65],\n",
       "       [86, 39],\n",
       "       [11, 28],\n",
       "       [27,  5],\n",
       "       [87,  6],\n",
       "       [58, 70],\n",
       "       [ 3, 79],\n",
       "       [13,  4],\n",
       "       [35, 59],\n",
       "       [30, 49],\n",
       "       [25, 98],\n",
       "       [27, 98],\n",
       "       [71, 76],\n",
       "       [75,  5],\n",
       "       [69, 84],\n",
       "       [72,  2],\n",
       "       [61, 91]])"
      ]
     },
     "execution_count": 97,
     "metadata": {},
     "output_type": "execute_result"
    }
   ],
   "source": [
    "#生成随机数\n",
    "scores=np.random.randint(0,100,size=(20,2))\n",
    "scores"
   ]
  },
  {
   "cell_type": "code",
   "execution_count": 98,
   "id": "578f6450",
   "metadata": {},
   "outputs": [],
   "source": [
    "#保存csv文件（savetxt）\n",
    "np.savetxt(\"score.csv\",scores,delimiter=\",\",header=\"英语,数学\",fmt=\"%d\",comments=\" \",)"
   ]
  },
  {
   "cell_type": "code",
   "execution_count": 99,
   "id": "1b0ccf67",
   "metadata": {},
   "outputs": [
    {
     "name": "stderr",
     "output_type": "stream",
     "text": [
      "<ipython-input-99-55d26ac339ef>:2: DeprecationWarning: `np.int` is a deprecated alias for the builtin `int`. To silence this warning, use `int` by itself. Doing this will not modify any behavior and is safe. When replacing `np.int`, you may wish to use e.g. `np.int64` or `np.int32` to specify the precision. If you wish to review your current use, check the release note link for additional information.\n",
      "Deprecated in NumPy 1.20; for more details and guidance: https://numpy.org/devdocs/release/1.20.0-notes.html#deprecations\n",
      "  b=np.loadtxt(\"score.csv\",dtype=np.int,delimiter=\",\",skiprows=1)\n"
     ]
    },
    {
     "data": {
      "text/plain": [
       "array([[67,  6],\n",
       "       [86, 54],\n",
       "       [75, 56],\n",
       "       [91, 65],\n",
       "       [86, 39],\n",
       "       [11, 28],\n",
       "       [27,  5],\n",
       "       [87,  6],\n",
       "       [58, 70],\n",
       "       [ 3, 79],\n",
       "       [13,  4],\n",
       "       [35, 59],\n",
       "       [30, 49],\n",
       "       [25, 98],\n",
       "       [27, 98],\n",
       "       [71, 76],\n",
       "       [75,  5],\n",
       "       [69, 84],\n",
       "       [72,  2],\n",
       "       [61, 91]])"
      ]
     },
     "execution_count": 99,
     "metadata": {},
     "output_type": "execute_result"
    }
   ],
   "source": [
    "#读取csv文件（loadtxt）\n",
    "b=np.loadtxt(\"score.csv\",dtype=np.int,delimiter=\",\",skiprows=1)\n",
    "b"
   ]
  },
  {
   "cell_type": "markdown",
   "id": "9b47ff59",
   "metadata": {},
   "source": [
    "# NAN和 inf值的处理\n",
    "1、首先，NAN不是一个数字，但它是一个浮点型\n",
    "2、NAN不等于NAN\n",
    "3、NAN和任何值坐运算都等于NAN"
   ]
  },
  {
   "cell_type": "code",
   "execution_count": null,
   "id": "8e4d429e",
   "metadata": {},
   "outputs": [],
   "source": [
    "# 删除所有NAN的数（也可以换个思路，提取所有不是NAN的数）"
   ]
  },
  {
   "cell_type": "markdown",
   "id": "9fa48ea1",
   "metadata": {},
   "source": [
    "# random模块"
   ]
  },
  {
   "cell_type": "code",
   "execution_count": 115,
   "id": "100aab02",
   "metadata": {},
   "outputs": [
    {
     "data": {
      "text/plain": [
       "array([0, 6, 9, 9, 7, 6, 9, 1, 0, 1])"
      ]
     },
     "execution_count": 115,
     "metadata": {},
     "output_type": "execute_result"
    }
   ],
   "source": [
    "#seed是种子，即生成的随机数每次都相同\n",
    "#rand()生成0~1之间的随机数\n",
    "#randn()生成标准正太分布的数\n",
    "#randint()生成指定范围内的随机数，并且通过size指定维度\n",
    "np.random.seed(1)\n",
    "np.random.rand()\n",
    "np.random.rand(2,3)\n",
    "np.random.randn(3,3)\n",
    "date=np.random.randint(0,10,size=(10,))"
   ]
  },
  {
   "cell_type": "code",
   "execution_count": 119,
   "id": "2605ff37",
   "metadata": {},
   "outputs": [
    {
     "data": {
      "text/plain": [
       "array([0, 1, 2, 3, 4])"
      ]
     },
     "execution_count": 119,
     "metadata": {},
     "output_type": "execute_result"
    }
   ],
   "source": [
    "#choice：在一个列表或者数组中，随机进行采样\n",
    "date=np.arange(5)\n",
    "date"
   ]
  },
  {
   "cell_type": "code",
   "execution_count": 122,
   "id": "6359e1eb",
   "metadata": {},
   "outputs": [
    {
     "data": {
      "text/plain": [
       "array([3, 4, 0])"
      ]
     },
     "execution_count": 122,
     "metadata": {},
     "output_type": "execute_result"
    }
   ],
   "source": [
    "#例子：从date里选取3个数\n",
    "np.random.choice(date,3)"
   ]
  },
  {
   "cell_type": "code",
   "execution_count": 126,
   "id": "09156023",
   "metadata": {},
   "outputs": [
    {
     "data": {
      "text/plain": [
       "array([[2, 7, 7, 9],\n",
       "       [7, 3, 0, 8],\n",
       "       [7, 7, 1, 1]])"
      ]
     },
     "execution_count": 126,
     "metadata": {},
     "output_type": "execute_result"
    }
   ],
   "source": [
    "#例子：从0~10里选取3行4列的数组\n",
    "np.random.choice(10,size=(3,4))"
   ]
  },
  {
   "cell_type": "code",
   "execution_count": 130,
   "id": "9d88e976",
   "metadata": {},
   "outputs": [
    {
     "data": {
      "text/plain": [
       "array([0, 1, 2, 3, 4, 5, 6, 7, 8, 9])"
      ]
     },
     "execution_count": 130,
     "metadata": {},
     "output_type": "execute_result"
    }
   ],
   "source": [
    "#shuffle：将原来数组元素的位置打乱\n",
    "date1=np.arange(10)\n",
    "date1"
   ]
  },
  {
   "cell_type": "code",
   "execution_count": 132,
   "id": "09329623",
   "metadata": {},
   "outputs": [
    {
     "data": {
      "text/plain": [
       "array([9, 0, 7, 3, 4, 5, 2, 1, 8, 6])"
      ]
     },
     "execution_count": 132,
     "metadata": {},
     "output_type": "execute_result"
    }
   ],
   "source": [
    "np.random.shuffle(date1)\n",
    "date1"
   ]
  },
  {
   "cell_type": "markdown",
   "id": "d77e033a",
   "metadata": {},
   "source": [
    "# Axis的理解"
   ]
  },
  {
   "cell_type": "code",
   "execution_count": 136,
   "id": "24f728bd",
   "metadata": {},
   "outputs": [
    {
     "data": {
      "text/plain": [
       "array([[0, 1],\n",
       "       [2, 3]])"
      ]
     },
     "execution_count": 136,
     "metadata": {},
     "output_type": "execute_result"
    }
   ],
   "source": [
    "#Axis=0是指括号最外那一层，Axis=1是指括号里的那一层，简单说就是：Axis=0是指垂直，Axis=1是指水平\n",
    "d=np.arange(0,4).reshape(2,2)\n",
    "d"
   ]
  },
  {
   "cell_type": "code",
   "execution_count": 140,
   "id": "dc9abdb9",
   "metadata": {},
   "outputs": [
    {
     "data": {
      "text/plain": [
       "array([2, 4])"
      ]
     },
     "execution_count": 140,
     "metadata": {},
     "output_type": "execute_result"
    }
   ],
   "source": [
    "d.sum(axis=0)"
   ]
  },
  {
   "cell_type": "code",
   "execution_count": 141,
   "id": "95fac4cd",
   "metadata": {},
   "outputs": [
    {
     "data": {
      "text/plain": [
       "array([1, 5])"
      ]
     },
     "execution_count": 141,
     "metadata": {},
     "output_type": "execute_result"
    }
   ],
   "source": [
    "d.sum(axis=1)"
   ]
  },
  {
   "cell_type": "code",
   "execution_count": 142,
   "id": "46d2330c",
   "metadata": {},
   "outputs": [
    {
     "data": {
      "text/plain": [
       "array([[ 0,  1,  2,  3,  4,  5],\n",
       "       [ 6,  7,  8,  9, 10, 11]])"
      ]
     },
     "execution_count": 142,
     "metadata": {},
     "output_type": "execute_result"
    }
   ],
   "source": [
    "#Max:求最大值\n",
    "x=np.arange(12).reshape(2,6)\n",
    "x"
   ]
  },
  {
   "cell_type": "code",
   "execution_count": 145,
   "id": "a5364151",
   "metadata": {},
   "outputs": [
    {
     "data": {
      "text/plain": [
       "11"
      ]
     },
     "execution_count": 145,
     "metadata": {},
     "output_type": "execute_result"
    }
   ],
   "source": [
    "x.max()"
   ]
  },
  {
   "cell_type": "code",
   "execution_count": 150,
   "id": "4bb99752",
   "metadata": {},
   "outputs": [
    {
     "data": {
      "text/plain": [
       "array([ 6,  7,  8,  9, 10, 11])"
      ]
     },
     "execution_count": 150,
     "metadata": {},
     "output_type": "execute_result"
    }
   ],
   "source": [
    "#当Axis=0时，垂直相比较大小\n",
    "x.max(axis=0)"
   ]
  },
  {
   "cell_type": "code",
   "execution_count": 151,
   "id": "aa818466",
   "metadata": {},
   "outputs": [
    {
     "data": {
      "text/plain": [
       "array([[ 6,  7,  8,  9, 10, 11]])"
      ]
     },
     "execution_count": 151,
     "metadata": {},
     "output_type": "execute_result"
    }
   ],
   "source": [
    "#delete:删除\n",
    "#举例：删除x中第0个\n",
    "np.delete(x,0,axis=0)"
   ]
  },
  {
   "cell_type": "code",
   "execution_count": 155,
   "id": "e3a2506a",
   "metadata": {},
   "outputs": [
    {
     "data": {
      "text/plain": [
       "array([[[ 0,  1,  2,  3,  4,  5],\n",
       "        [ 6,  7,  8,  9, 10, 11]],\n",
       "\n",
       "       [[12, 13, 14, 15, 16, 17],\n",
       "        [18, 19, 20, 21, 22, 23]]])"
      ]
     },
     "execution_count": 155,
     "metadata": {},
     "output_type": "execute_result"
    }
   ],
   "source": [
    "#例子：定义一个2块2行6列的数组\n",
    "y=np.arange(24).reshape(2,2,6) \n",
    "y"
   ]
  },
  {
   "cell_type": "markdown",
   "id": "3c1c2712",
   "metadata": {},
   "source": [
    "# Numpy中常见的函数"
   ]
  },
  {
   "cell_type": "code",
   "execution_count": 156,
   "id": "752291e0",
   "metadata": {},
   "outputs": [
    {
     "data": {
      "text/plain": [
       "array([[-2.86936553,  5.05576706,  7.62683659, -9.76661613, -0.03781861],\n",
       "       [-8.52415977,  5.73902949, -8.7186534 , -2.89379275,  8.83673898],\n",
       "       [-2.40393426,  5.25840147,  5.43189996, -3.97279009,  5.45478294]])"
      ]
     },
     "execution_count": 156,
     "metadata": {},
     "output_type": "execute_result"
    }
   ],
   "source": [
    "#一元函数\n",
    "#uniform：平均分布\n",
    "e=np.random.uniform(-10,10,size=(3,5))\n",
    "e"
   ]
  },
  {
   "cell_type": "code",
   "execution_count": 157,
   "id": "4258400c",
   "metadata": {},
   "outputs": [
    {
     "data": {
      "text/plain": [
       "array([[2.86936553, 5.05576706, 7.62683659, 9.76661613, 0.03781861],\n",
       "       [8.52415977, 5.73902949, 8.7186534 , 2.89379275, 8.83673898],\n",
       "       [2.40393426, 5.25840147, 5.43189996, 3.97279009, 5.45478294]])"
      ]
     },
     "execution_count": 157,
     "metadata": {},
     "output_type": "execute_result"
    }
   ],
   "source": [
    "#1、abs：求绝对值\n",
    "np.abs(e)"
   ]
  },
  {
   "cell_type": "code",
   "execution_count": 158,
   "id": "0dbd6bd2",
   "metadata": {},
   "outputs": [
    {
     "name": "stderr",
     "output_type": "stream",
     "text": [
      "<ipython-input-158-7289056186f3>:2: RuntimeWarning: invalid value encountered in sqrt\n",
      "  np.sqrt(e)\n"
     ]
    },
    {
     "data": {
      "text/plain": [
       "array([[       nan, 2.24850329, 2.76167279,        nan,        nan],\n",
       "       [       nan, 2.39562716,        nan,        nan, 2.9726653 ],\n",
       "       [       nan, 2.29312047, 2.33064368,        nan, 2.33554767]])"
      ]
     },
     "execution_count": 158,
     "metadata": {},
     "output_type": "execute_result"
    }
   ],
   "source": [
    "#2、sqrt：开根\n",
    "np.sqrt(e)"
   ]
  },
  {
   "cell_type": "code",
   "execution_count": 159,
   "id": "5963a756",
   "metadata": {},
   "outputs": [
    {
     "data": {
      "text/plain": [
       "array([[8.23325854e+00, 2.55607806e+01, 5.81686364e+01, 9.53867906e+01,\n",
       "        1.43024707e-03],\n",
       "       [7.26612998e+01, 3.29364595e+01, 7.60149172e+01, 8.37403649e+00,\n",
       "        7.80879557e+01],\n",
       "       [5.77889995e+00, 2.76507860e+01, 2.95055372e+01, 1.57830611e+01,\n",
       "        2.97546569e+01]])"
      ]
     },
     "execution_count": 159,
     "metadata": {},
     "output_type": "execute_result"
    }
   ],
   "source": [
    "#3、square：求平方\n",
    "np.square(e)"
   ]
  },
  {
   "cell_type": "code",
   "execution_count": null,
   "id": "3c838128",
   "metadata": {},
   "outputs": [],
   "source": [
    "#4、exp：计算指数e^x\n",
    "#5、sign：大于0的变成1，等于0的变成0，小于0的变成-1\n",
    "#6、ceil：朝着正无穷大的方向取整\n",
    "#7、floor：朝着负无穷大的方向取证\n",
    "#8、"
   ]
  },
  {
   "cell_type": "code",
   "execution_count": 160,
   "id": "430fef79",
   "metadata": {},
   "outputs": [],
   "source": [
    "import pandas "
   ]
  }
 ],
 "metadata": {
  "kernelspec": {
   "display_name": "Python 3",
   "language": "python",
   "name": "python3"
  },
  "language_info": {
   "codemirror_mode": {
    "name": "ipython",
    "version": 3
   },
   "file_extension": ".py",
   "mimetype": "text/x-python",
   "name": "python",
   "nbconvert_exporter": "python",
   "pygments_lexer": "ipython3",
   "version": "3.8.8"
  }
 },
 "nbformat": 4,
 "nbformat_minor": 5
}
